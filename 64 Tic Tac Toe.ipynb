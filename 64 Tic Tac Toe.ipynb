{
 "cells": [
  {
   "cell_type": "code",
   "execution_count": 1,
   "id": "d32e3411-b83b-43f9-9e23-024deece0d63",
   "metadata": {},
   "outputs": [],
   "source": [
    "from IPython.display import clear_output\n",
    "\n",
    "def display_board(board):\n",
    "    clear_output()\n",
    "    print(board[7]+ '|' +board[8]+ '|' +board[9])\n",
    "    print('-----')\n",
    "    print(board[4]+ '|' +board[5]+ '|' +board[6])\n",
    "    print('-----')\n",
    "    print(board[1]+ '|' +board[2]+ '|' +board[3])\n",
    "    \n",
    "\n",
    "    "
   ]
  },
  {
   "cell_type": "code",
   "execution_count": 3,
   "id": "5c0a3cac-64d9-48cc-ab81-08bf8795536e",
   "metadata": {},
   "outputs": [
    {
     "name": "stdout",
     "output_type": "stream",
     "text": [
      "X|O|X\n",
      "-----\n",
      "O|X|O\n",
      "-----\n",
      "X|O|X\n"
     ]
    }
   ],
   "source": [
    "test_board = ['#','X','O','X','O','X','O','X','O','X']\n",
    "display_board(test_board)\n"
   ]
  },
  {
   "cell_type": "markdown",
   "id": "98d2e1c5-cd83-49b0-b455-059b8205e306",
   "metadata": {},
   "source": [
    "Taking I/P to assign marker to Player"
   ]
  },
  {
   "cell_type": "code",
   "execution_count": 6,
   "id": "7fae36ff-3259-47b8-8784-4c01274639c3",
   "metadata": {},
   "outputs": [],
   "source": [
    "def player_input():\n",
    "    marker = ' '\n",
    "\n",
    "    while not (marker == 'X' or marker == 'O'):\n",
    "        marker = input('Player 1: Choose to Play, X or O : ').upper()\n",
    "\n",
    "    if marker == 'X':\n",
    "        return ('X', 'O')\n",
    "    else:\n",
    "        return ('O', 'X')"
   ]
  },
  {
   "cell_type": "code",
   "execution_count": 8,
   "id": "fcf1b27f-5c9c-4bea-b338-1e5c3cbb014f",
   "metadata": {},
   "outputs": [
    {
     "name": "stdin",
     "output_type": "stream",
     "text": [
      "Player 1: Choose to Play, X or O :  X\n"
     ]
    },
    {
     "data": {
      "text/plain": [
       "('X', 'O')"
      ]
     },
     "execution_count": 8,
     "metadata": {},
     "output_type": "execute_result"
    }
   ],
   "source": [
    "player_input()"
   ]
  },
  {
   "cell_type": "code",
   "execution_count": 10,
   "id": "3daaca32-c0bc-4bfd-aaad-822adb549c82",
   "metadata": {},
   "outputs": [],
   "source": [
    "def place_marker(board, marker, position):\n",
    "    board[position] = marker"
   ]
  },
  {
   "cell_type": "code",
   "execution_count": 12,
   "id": "902d6c4a-5222-4391-a9cd-2eb61508a104",
   "metadata": {},
   "outputs": [
    {
     "data": {
      "text/plain": [
       "['#', 'X', 'O', 'X', 'O', 'X', 'O', 'X', 'O', 'X']"
      ]
     },
     "execution_count": 12,
     "metadata": {},
     "output_type": "execute_result"
    }
   ],
   "source": [
    "test_board"
   ]
  },
  {
   "cell_type": "code",
   "execution_count": 14,
   "id": "6ee7b42e-a117-4d16-8810-d1ce0c852d84",
   "metadata": {},
   "outputs": [
    {
     "name": "stdout",
     "output_type": "stream",
     "text": [
      "X|$|X\n",
      "-----\n",
      "O|X|O\n",
      "-----\n",
      "X|O|X\n"
     ]
    }
   ],
   "source": [
    "place_marker(test_board, '$', 8)\n",
    "display_board(test_board)"
   ]
  },
  {
   "cell_type": "code",
   "execution_count": 16,
   "id": "c7acf5a0-21b9-4477-a3cb-f551599e493a",
   "metadata": {},
   "outputs": [],
   "source": [
    "def win_check(board,mark):\n",
    "    # All Rows\n",
    "    # Or All Columns\n",
    "    # Or any of the 2 diagonals\n",
    "    return((board[1] == mark and board[2] == mark and board[3] == mark) or #Row\n",
    "    (board[4] == mark and board[5] == mark and board[6] == mark) or #Row\n",
    "    (board[7] == mark and board[8] == mark and board[9] == mark) or #Row\n",
    "    (board[1] == mark and board[4] == mark and board[7] == mark) or #Column\n",
    "    (board[2] == mark and board[5] == mark and board[8] == mark) or #Column\n",
    "    (board[3] == mark and board[6] == mark and board[9] == mark) or #Column\n",
    "    (board[1] == mark and board[5] == mark and board[9] == mark) or #Diagonal\n",
    "    (board[7] == mark and board[5] == mark and board[3] == mark)) #Diagonal"
   ]
  },
  {
   "cell_type": "code",
   "execution_count": 18,
   "id": "1a23cb25-f08d-47b3-aca4-fb605d03da12",
   "metadata": {},
   "outputs": [
    {
     "name": "stdout",
     "output_type": "stream",
     "text": [
      "X|$|X\n",
      "-----\n",
      "O|X|O\n",
      "-----\n",
      "X|O|X\n"
     ]
    },
    {
     "data": {
      "text/plain": [
       "True"
      ]
     },
     "execution_count": 18,
     "metadata": {},
     "output_type": "execute_result"
    }
   ],
   "source": [
    "display_board(test_board)\n",
    "win_check(test_board, 'X')"
   ]
  },
  {
   "cell_type": "code",
   "execution_count": 20,
   "id": "781318bd-0d58-4e02-92fa-02ecaa309cd1",
   "metadata": {},
   "outputs": [],
   "source": [
    "import random\n",
    "\n",
    "def choose_first():\n",
    "    flip = random.randint(0,1)\n",
    "\n",
    "    if flip == 0:\n",
    "        return 'Player 1'\n",
    "    else:\n",
    "        return 'Player 2'"
   ]
  },
  {
   "cell_type": "markdown",
   "id": "eb132696-9979-477e-9086-9a6bffa294ed",
   "metadata": {},
   "source": [
    "Checking Whether Position in Board Empty or Full"
   ]
  },
  {
   "cell_type": "code",
   "execution_count": 23,
   "id": "c1dfbf08-4e56-401d-980f-c648980b1b39",
   "metadata": {},
   "outputs": [],
   "source": [
    "def space_check(board,position):\n",
    "    return board[position] == ' '"
   ]
  },
  {
   "cell_type": "code",
   "execution_count": 25,
   "id": "6f1755d1-c12c-435a-9430-50f9a777ab8a",
   "metadata": {},
   "outputs": [],
   "source": [
    "def full_board_check(board):\n",
    "    for i in range (1,10):\n",
    "        if space_check(board,i):\n",
    "            return False\n",
    "\n",
    "    return True"
   ]
  },
  {
   "cell_type": "markdown",
   "id": "221bcbeb-e038-49fd-badb-d8135cddfcd5",
   "metadata": {},
   "source": [
    "For next position"
   ]
  },
  {
   "cell_type": "code",
   "execution_count": 28,
   "id": "5a2f515a-17ef-4af3-92b9-75a8634b639a",
   "metadata": {},
   "outputs": [],
   "source": [
    "def player_choice(board):\n",
    "    position = 0\n",
    "\n",
    "    while position not in [1,2,3,4,5,6,7,8,9] or not space_check(board,position):\n",
    "        position = int(input('Choose a position : (1-9)'))\n",
    "    return position\n",
    "    "
   ]
  },
  {
   "cell_type": "markdown",
   "id": "b1825285-13d7-4e21-aef7-3b4c6d70bc67",
   "metadata": {},
   "source": [
    "Willing to play again?"
   ]
  },
  {
   "cell_type": "code",
   "execution_count": 31,
   "id": "f45f45fb-fc41-4bec-81f1-7aa8e9592438",
   "metadata": {},
   "outputs": [],
   "source": [
    "def replay():\n",
    "    choice = input(\"Play again? Yes or No\")\n",
    "\n",
    "    return choice == 'Yes'"
   ]
  },
  {
   "cell_type": "markdown",
   "id": "5844c7b8-627d-45f2-b38c-b3226dba1a1c",
   "metadata": {},
   "source": [
    "Code"
   ]
  },
  {
   "cell_type": "code",
   "execution_count": 45,
   "id": "ada47b29-bdc1-45e8-b6e0-7b83b15d1bde",
   "metadata": {},
   "outputs": [
    {
     "name": "stdout",
     "output_type": "stream",
     "text": [
      "X| |O\n",
      "-----\n",
      "O|X|O\n",
      "-----\n",
      "X|O|X\n",
      "Player 1 has won!\n"
     ]
    },
    {
     "name": "stdin",
     "output_type": "stream",
     "text": [
      "Play again? Yes or No No\n"
     ]
    }
   ],
   "source": [
    "\n",
    "print(\"Welcome to Tic Tac Toe!\")\n",
    "\n",
    "while True:\n",
    "    #Board, Markers, Who's 1st, Choose Markers\n",
    "    the_board = [' ']*10\n",
    "    player1_marker,player2_marker = player_input()\n",
    "\n",
    "    turn = choose_first()\n",
    "    print(turn + 'will go first.')\n",
    "\n",
    "    play_game = input(\"Ready to play? Y or N \")\n",
    "\n",
    "    if play_game == 'Y':\n",
    "        game_on = True\n",
    "    else:\n",
    "        game_on = False\n",
    "\n",
    "    while game_on:\n",
    "        if turn == 'Player 1':\n",
    "            #Player 1's turn\n",
    "            display_board(the_board)\n",
    "            position = player_choice(the_board)\n",
    "            place_marker(the_board,player1_marker, position)\n",
    "\n",
    "            if win_check(the_board,player1_marker):\n",
    "                display_board(the_board)\n",
    "                print('Player 1 has won!')\n",
    "                game_on = False\n",
    "            else:\n",
    "                if full_board_check(the_board):\n",
    "                    display_board(the_board)\n",
    "                    print(\"Tie Game!\")\n",
    "                    game_on = False\n",
    "                else:\n",
    "                    turn = 'Player 2'\n",
    "        else:\n",
    "            #Player 2's turn\n",
    "            display_board(the_board)\n",
    "            position = player_choice(the_board)\n",
    "            place_marker(the_board,player2_marker, position)\n",
    "\n",
    "            if win_check(the_board,player2_marker):\n",
    "                display_board(the_board)\n",
    "                print('Player 2 has won!')\n",
    "                game_on = False\n",
    "            else:\n",
    "                if full_board_check(the_board):\n",
    "                    display_board(the_board)\n",
    "                    print(\"Tie Game!\")\n",
    "                    game_on = False\n",
    "                else:\n",
    "                    turn = 'Player 1'\n",
    "            \n",
    "    if not replay():\n",
    "        break   "
   ]
  },
  {
   "cell_type": "code",
   "execution_count": null,
   "id": "da569e96-bc04-4bbe-b5ab-5fa36eb3763c",
   "metadata": {},
   "outputs": [],
   "source": []
  }
 ],
 "metadata": {
  "kernelspec": {
   "display_name": "Python [conda env:base] *",
   "language": "python",
   "name": "conda-base-py"
  },
  "language_info": {
   "codemirror_mode": {
    "name": "ipython",
    "version": 3
   },
   "file_extension": ".py",
   "mimetype": "text/x-python",
   "name": "python",
   "nbconvert_exporter": "python",
   "pygments_lexer": "ipython3",
   "version": "3.12.7"
  }
 },
 "nbformat": 4,
 "nbformat_minor": 5
}
